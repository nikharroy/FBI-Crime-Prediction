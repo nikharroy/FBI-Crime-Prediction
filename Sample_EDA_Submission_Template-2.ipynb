{
  "nbformat": 4,
  "nbformat_minor": 0,
  "metadata": {
    "colab": {
      "private_outputs": true,
      "provenance": [],
      "collapsed_sections": [
        "vncDsAP0Gaoa",
        "FJNUwmbgGyua",
        "w6K7xa23Elo4",
        "yQaldy8SH6Dl",
        "PH-0ReGfmX4f",
        "mDgbUHAGgjLW",
        "O_i_v8NEhb9l",
        "HhfV-JJviCcP",
        "Y3lxredqlCYt",
        "3RnN4peoiCZX",
        "x71ZqKXriCWQ",
        "7hBIi_osiCS2",
        "JlHwYmJAmNHm",
        "35m5QtbWiB9F",
        "PoPl-ycgm1ru",
        "H0kj-8xxnORC",
        "nA9Y7ga8ng1Z",
        "PBTbrJXOngz2",
        "u3PMJOP6ngxN",
        "dauF4eBmngu3",
        "bKJF3rekwFvQ",
        "MSa1f5Uengrz",
        "GF8Ens_Soomf",
        "0wOQAZs5pc--",
        "K5QZ13OEpz2H",
        "lQ7QKXXCp7Bj",
        "448CDAPjqfQr",
        "KSlN3yHqYklG",
        "t6dVpIINYklI",
        "ijmpgYnKYklI",
        "-JiQyfWJYklI",
        "EM7whBJCYoAo",
        "fge-S5ZAYoAp",
        "85gYPyotYoAp",
        "RoGjAbkUYoAp",
        "4Of9eVA-YrdM",
        "iky9q4vBYrdO",
        "F6T5p64dYrdO",
        "y-Ehk30pYrdP",
        "bamQiAODYuh1",
        "QHF8YVU7Yuh3",
        "GwzvFGzlYuh3",
        "qYpmQ266Yuh3",
        "OH-pJp9IphqM",
        "bbFf2-_FphqN",
        "_ouA3fa0phqN",
        "Seke61FWphqN",
        "PIIx-8_IphqN",
        "t27r6nlMphqO",
        "r2jJGEOYphqO",
        "b0JNsNcRphqO",
        "BZR9WyysphqO",
        "jj7wYXLtphqO",
        "eZrbJ2SmphqO",
        "rFu4xreNphqO",
        "YJ55k-q6phqO",
        "gCFgpxoyphqP",
        "OVtJsKN_phqQ",
        "lssrdh5qphqQ",
        "U2RJ9gkRphqQ",
        "1M8mcRywphqQ",
        "tgIPom80phqQ",
        "JMzcOPDDphqR",
        "x-EpHcCOp1ci",
        "X_VqEhTip1ck",
        "8zGJKyg5p1ck",
        "PVzmfK_Ep1ck",
        "n3dbpmDWp1ck",
        "ylSl6qgtp1ck",
        "ZWILFDl5p1ck",
        "M7G43BXep1ck",
        "Ag9LCva-p1cl",
        "E6MkPsBcp1cl",
        "2cELzS2fp1cl",
        "3MPXvC8up1cl",
        "NC_X3p0fY2L0",
        "UV0SzAkaZNRQ",
        "YPEH6qLeZNRQ",
        "q29F0dvdveiT",
        "EXh0U9oCveiU",
        "22aHeOlLveiV",
        "JcMwzZxoAimU",
        "8G2x9gOozGDZ",
        "gCX9965dhzqZ",
        "gIfDvo9L0UH2"
      ]
    },
    "kernelspec": {
      "name": "python3",
      "display_name": "Python 3"
    },
    "language_info": {
      "name": "python"
    }
  },
  "cells": [
    {
      "cell_type": "markdown",
      "source": [
        "# **Project Name**    -\n",
        "FBI Crime Time Series Forecasting\n",
        "\n"
      ],
      "metadata": {
        "id": "vncDsAP0Gaoa"
      }
    },
    {
      "cell_type": "markdown",
      "source": [
        "##### **Project Type**    - EDA\n",
        "##### **Contribution**    - Individual\n",
        "#Member 1 - Nikhar Roy Chaudhuri"
      ],
      "metadata": {
        "id": "beRrZCGUAJYm"
      }
    },
    {
      "cell_type": "markdown",
      "source": [
        "# **Project Summary -**"
      ],
      "metadata": {
        "id": "FJNUwmbgGyua"
      }
    },
    {
      "cell_type": "markdown",
      "source": [
        "In order to investigate how crime trends have changed over time in the US, this project will analyze FBI crime statistics. In order to promote greater awareness and planning, the primary goal was to learn more about trends in criminal incidences and pinpoint times of high or low activity.Monthly and annual records of various crime types are included in the collection. To ensure reliable analysis, it was first cleaned to address missing numbers and discrepancies. Important patterns and seasonal trends were found using exploratory data analysis and visualizations such as line charts and bar plots. For instance, it was discovered that some crimes peaked in particular months, while others exhibited steady increases or decreases over time.The analysis provided valuable insights into how crime varies by time and location, which can be helpful for law enforcement agencies, researchers, and policymakers. It also lays the foundation for future work, such as forecasting crime trends or developing targeted crime prevention strategies based on historical behavior.\n",
        "\n"
      ],
      "metadata": {
        "id": "8EPtJh8fiShA"
      }
    },
    {
      "cell_type": "markdown",
      "source": [
        "# **GitHub Link -**"
      ],
      "metadata": {
        "id": "w6K7xa23Elo4"
      }
    },
    {
      "cell_type": "markdown",
      "source": [
        "Provide your GitHub Link here."
      ],
      "metadata": {
        "id": "h1o69JH3Eqqn"
      }
    },
    {
      "cell_type": "markdown",
      "source": [
        "# **Problem Statement**\n"
      ],
      "metadata": {
        "id": "yQaldy8SH6Dl"
      }
    },
    {
      "cell_type": "markdown",
      "source": [
        "**Write Problem Statement Here.**\n",
        "The project aims to analyze historical FBI crime data to identify temporal trends and patterns in reported incidents and forecast future crime occurrences. Understanding these trends is crucial for enabling law enforcement agencies to allocate resources effectively, plan crime prevention strategies, and anticipate surges in specific crime categories."
      ],
      "metadata": {
        "id": "DpeJGUA3kjGy"
      }
    },
    {
      "cell_type": "markdown",
      "source": [
        "#### **Define Your Business Objective?**"
      ],
      "metadata": {
        "id": "PH-0ReGfmX4f"
      }
    },
    {
      "cell_type": "markdown",
      "source": [
        "Answer Here- The objective of this project is to analyze historical FBI crime data to uncover trends and patterns in crime over time. By understanding how crime incidents vary by year and month, the goal is to generate insights that can help law enforcement agencies, government bodies, and policymakers make informed decisions, allocate resources efficiently, and plan effective crime prevention strategies."
      ],
      "metadata": {
        "id": "PhDvGCAqmjP1"
      }
    },
    {
      "cell_type": "markdown",
      "source": [
        "# **General Guidelines** : -  "
      ],
      "metadata": {
        "id": "mDgbUHAGgjLW"
      }
    },
    {
      "cell_type": "markdown",
      "source": [
        "1.   Well-structured, formatted, and commented code is required.\n",
        "2.   Exception Handling, Production Grade Code & Deployment Ready Code will be a plus. Those students will be awarded some additional credits.\n",
        "     \n",
        "     The additional credits will have advantages over other students during Star Student selection.\n",
        "       \n",
        "             [ Note: - Deployment Ready Code is defined as, the whole .ipynb notebook should be executable in one go\n",
        "                       without a single error logged. ]\n",
        "\n",
        "3.   Each and every logic should have proper comments.\n",
        "4. You may add as many number of charts you want. Make Sure for each and every chart the following format should be answered.\n",
        "        \n",
        "\n",
        "```\n",
        "# Chart visualization code\n",
        "```\n",
        "            \n",
        "\n",
        "*   Why did you pick the specific chart?\n",
        "*   What is/are the insight(s) found from the chart?\n",
        "* Will the gained insights help creating a positive business impact?\n",
        "Are there any insights that lead to negative growth? Justify with specific reason.\n",
        "\n",
        "5. You have to create at least 20 logical & meaningful charts having important insights.\n",
        "\n",
        "\n",
        "[ Hints : - Do the Vizualization in  a structured way while following \"UBM\" Rule.\n",
        "\n",
        "U - Univariate Analysis,\n",
        "\n",
        "B - Bivariate Analysis (Numerical - Categorical, Numerical - Numerical, Categorical - Categorical)\n",
        "\n",
        "M - Multivariate Analysis\n",
        " ]\n",
        "\n",
        "\n",
        "\n"
      ],
      "metadata": {
        "id": "ZrxVaUj-hHfC"
      }
    },
    {
      "cell_type": "markdown",
      "source": [
        "# ***Let's Begin !***"
      ],
      "metadata": {
        "id": "O_i_v8NEhb9l"
      }
    },
    {
      "cell_type": "markdown",
      "source": [
        "## ***1. Know Your Data***"
      ],
      "metadata": {
        "id": "HhfV-JJviCcP"
      }
    },
    {
      "cell_type": "markdown",
      "source": [
        "### Import Libraries"
      ],
      "metadata": {
        "id": "Y3lxredqlCYt"
      }
    },
    {
      "cell_type": "code",
      "source": [
        "# Import Libraries"
      ],
      "metadata": {
        "id": "M8Vqi-pPk-HR"
      },
      "execution_count": null,
      "outputs": []
    },
    {
      "cell_type": "code",
      "source": [
        "#  STEP 1: Importing Required Libraries\n",
        "\n",
        "# For data manipulation and numerical operations\n",
        "import pandas as pd\n",
        "import numpy as np\n",
        "\n",
        "# For data visualization\n",
        "import matplotlib.pyplot as plt\n",
        "import seaborn as sns\n",
        "\n",
        "# For machine learning model building\n",
        "from sklearn.model_selection import train_test_split\n",
        "from sklearn.preprocessing import LabelEncoder, StandardScaler\n",
        "from sklearn.ensemble import RandomForestRegressor\n",
        "from sklearn.metrics import mean_squared_error, r2_score\n",
        "\n",
        "# For gradient boosting model\n",
        "import xgboost as xgb\n",
        "\n",
        "# For time series analysis (if needed for ARIMA, SARIMA)\n",
        "import statsmodels.api as sm\n",
        "\n",
        "# Optional: For geospatial analysis if map-based visualizations are used\n",
        "# import geopandas as gpd\n",
        "\n",
        "# Suppress warnings for cleaner outputs\n",
        "import warnings\n",
        "warnings.filterwarnings(\"ignore\")"
      ],
      "metadata": {
        "id": "7P6XExbvfnU4"
      },
      "execution_count": null,
      "outputs": []
    },
    {
      "cell_type": "markdown",
      "source": [
        "### Dataset Loading"
      ],
      "metadata": {
        "id": "3RnN4peoiCZX"
      }
    },
    {
      "cell_type": "code",
      "source": [
        "# Load Dataset"
      ],
      "metadata": {
        "id": "4CkvbW_SlZ_R"
      },
      "execution_count": null,
      "outputs": []
    },
    {
      "cell_type": "code",
      "source": [
        "#  STEP 2: Load the Dataset\n",
        "\n",
        "# Load the training data (Excel format)\n",
        "train_df = pd.read_excel('/content/Train.xlsx')  # Update the path if needed\n",
        "\n",
        "# Load the test data (CSV format)\n",
        "test_df = pd.read_csv('/content/Test (2).csv')  # Ensure correct file name"
      ],
      "metadata": {
        "id": "Fd5WhjAQf-1I"
      },
      "execution_count": null,
      "outputs": []
    },
    {
      "cell_type": "markdown",
      "source": [
        "### Dataset First View"
      ],
      "metadata": {
        "id": "x71ZqKXriCWQ"
      }
    },
    {
      "cell_type": "code",
      "source": [
        "# Dataset First Look"
      ],
      "metadata": {
        "id": "LWNFOSvLl09H"
      },
      "execution_count": null,
      "outputs": []
    },
    {
      "cell_type": "code",
      "source": [
        "#  STEP 3: Preview the Dataset\n",
        "\n",
        "# Display the first five rows of the training data to understand structure\n",
        "train_df.head()"
      ],
      "metadata": {
        "id": "GLNdBO_ag2gu"
      },
      "execution_count": null,
      "outputs": []
    },
    {
      "cell_type": "markdown",
      "source": [
        "### Dataset Rows & Columns count"
      ],
      "metadata": {
        "id": "7hBIi_osiCS2"
      }
    },
    {
      "cell_type": "code",
      "source": [
        "# Dataset Rows & Columns count"
      ],
      "metadata": {
        "id": "Kllu7SJgmLij"
      },
      "execution_count": null,
      "outputs": []
    },
    {
      "cell_type": "code",
      "source": [
        "# 📌 STEP 4: Check Dataset Dimensions\n",
        "\n",
        "# Print the number of rows and columns in both training and test datasets\n",
        "print(\"Training Data Shape:\", train_df.shape)\n",
        "print(\"Test Data Shape:\", test_df.shape)"
      ],
      "metadata": {
        "id": "-xvkss8ShQ6T"
      },
      "execution_count": null,
      "outputs": []
    },
    {
      "cell_type": "markdown",
      "source": [
        "### Dataset Information"
      ],
      "metadata": {
        "id": "JlHwYmJAmNHm"
      }
    },
    {
      "cell_type": "code",
      "source": [
        "# Dataset Info"
      ],
      "metadata": {
        "id": "e9hRXRi6meOf"
      },
      "execution_count": null,
      "outputs": []
    },
    {
      "cell_type": "code",
      "source": [
        "# Show column data types, non-null counts, and memory usage\n",
        "train_df.info()"
      ],
      "metadata": {
        "id": "x56i9UsXhyOk"
      },
      "execution_count": null,
      "outputs": []
    },
    {
      "cell_type": "markdown",
      "source": [
        "#### Duplicate Values"
      ],
      "metadata": {
        "id": "35m5QtbWiB9F"
      }
    },
    {
      "cell_type": "code",
      "source": [
        "# Dataset Duplicate Value Count"
      ],
      "metadata": {
        "id": "1sLdpKYkmox0"
      },
      "execution_count": null,
      "outputs": []
    },
    {
      "cell_type": "code",
      "source": [
        "# Check and count how many duplicate rows exist\n",
        "duplicate_count = train_df.duplicated().sum()\n",
        "print(\"Number of duplicate rows:\", duplicate_count)"
      ],
      "metadata": {
        "id": "EwNfNlxAh3Vu"
      },
      "execution_count": null,
      "outputs": []
    },
    {
      "cell_type": "markdown",
      "source": [
        "#### Missing Values/Null Values"
      ],
      "metadata": {
        "id": "PoPl-ycgm1ru"
      }
    },
    {
      "cell_type": "code",
      "source": [
        "# Missing Values/Null Values Count"
      ],
      "metadata": {
        "id": "GgHWkxvamxVg"
      },
      "execution_count": null,
      "outputs": []
    },
    {
      "cell_type": "code",
      "source": [
        "# Count missing values in each column\n",
        "missing = train_df.isnull().sum()\n",
        "print(\"Missing values in each column:\\n\", missing)"
      ],
      "metadata": {
        "id": "Gj-Gk3n7iDrf"
      },
      "execution_count": null,
      "outputs": []
    },
    {
      "cell_type": "code",
      "source": [
        "# Visualizing the missing values"
      ],
      "metadata": {
        "id": "3q5wnI3om9sJ"
      },
      "execution_count": null,
      "outputs": []
    },
    {
      "cell_type": "code",
      "source": [
        "# Create a heatmap to visually inspect missing values across the dataset\n",
        "plt.figure(figsize=(12, 6))\n",
        "sns.heatmap(train_df.isnull(), cbar=False, cmap='YlOrRd')\n",
        "plt.title(\"Missing Value Heatmap\")\n",
        "plt.show()"
      ],
      "metadata": {
        "id": "11hQcQMDh-kq"
      },
      "execution_count": null,
      "outputs": []
    },
    {
      "cell_type": "markdown",
      "source": [
        "### What did you know about your dataset?"
      ],
      "metadata": {
        "id": "H0kj-8xxnORC"
      }
    },
    {
      "cell_type": "markdown",
      "source": [
        "Dataset Size:\n",
        "The training dataset has 474,565 rows and 13 columns.\n",
        "The test dataset has 162 rows and 4 columns.\n",
        "Data Columns:\n",
        "The main columns include:\n",
        "TYPE, HUNDRED_BLOCK, NEIGHBOURHOOD, X, Y, Latitude, Longitude, HOUR, MINUTE, YEAR, MONTH, DAY, and Date.\n",
        "These cover details about what crime occurred, where, and when.\n",
        "Data Types:\n",
        "Most columns are numeric (int64, float64), and a few are categorical like TYPE, NEIGHBOURHOOD.\n",
        "Missing Data:\n",
        "Some important columns have missing values:\n",
        "NEIGHBOURHOOD: 51,000 missing\n",
        "HOUR and MINUTE: 49,000 missing\n",
        "A few rows are missing HUNDRED_BLOCK (only 13 rows)\n",
        "Duplicates:\n",
        "There are some duplicate rows that might need to be removed or investigated.\n",
        "Time Coverage:\n",
        "The data includes YEAR, MONTH, and DAY, which is useful for time-series forecasting.\n",
        "Summary in short:\n",
        "The dataset is a large crime records dataset with location and timestamp details, some missing values (especially in neighborhood and time), and it's well-suited for time-based crime trend analysis or forecasting."
      ],
      "metadata": {
        "id": "gfoNAAC-nUe_"
      }
    },
    {
      "cell_type": "markdown",
      "source": [
        "## ***2. Understanding Your Variables***"
      ],
      "metadata": {
        "id": "nA9Y7ga8ng1Z"
      }
    },
    {
      "cell_type": "code",
      "source": [
        "# Dataset Columns"
      ],
      "metadata": {
        "id": "j7xfkqrt5Ag5"
      },
      "execution_count": null,
      "outputs": []
    },
    {
      "cell_type": "code",
      "source": [
        "# 📌 Display all column names in the dataset\n",
        "print(\"Dataset Columns:\\n\")\n",
        "print(train_df.columns.tolist())\n"
      ],
      "metadata": {
        "id": "Y6MoyZfqkU8m"
      },
      "execution_count": null,
      "outputs": []
    },
    {
      "cell_type": "code",
      "source": [
        "# Dataset Describe"
      ],
      "metadata": {
        "id": "DnOaZdaE5Q5t"
      },
      "execution_count": null,
      "outputs": []
    },
    {
      "cell_type": "code",
      "source": [
        "# 📌 Summary statistics for numerical columns\n",
        "train_df.describe()\n"
      ],
      "metadata": {
        "id": "7M4sH5HAk35I"
      },
      "execution_count": null,
      "outputs": []
    },
    {
      "cell_type": "markdown",
      "source": [
        "### Variables Description"
      ],
      "metadata": {
        "id": "PBTbrJXOngz2"
      }
    },
    {
      "cell_type": "markdown",
      "source": [
        "| Column Name       | Description                                                                 |\n",
        "|-------------------|-----------------------------------------------------------------------------|\n",
        "| `TYPE`            | Type of crime committed (e.g., Theft, Mischief, Assault). Useful for identifying crime trends. |\n",
        "| `HUNDRED_BLOCK`   | Approximate street-level location of the crime.                             |\n",
        "| `NEIGHBOURHOOD`   | Official neighborhood name where the incident occurred.                     |\n",
        "| `X`, `Y`          | UTM coordinate values for spatial positioning.                              |\n",
        "| `Latitude`, `Longitude` | Geographical coordinates (in degrees) of the crime location.      |\n",
        "| `HOUR`            | Hour of the day the crime occurred (0–23).                                  |\n",
        "| `MINUTE`          | Minute of the hour the crime occurred (0–59).                               |\n",
        "| `YEAR`            | Year of the crime incident.                                                 |\n",
        "| `MONTH`           | Month when the incident happened (1–12).                                    |\n",
        "| `DAY`             | Day of the month (1–31).                                                    |\n",
        "| `Date`            | Complete date of the incident in datetime format.                           |"
      ],
      "metadata": {
        "id": "aJV4KIxSnxay"
      }
    },
    {
      "cell_type": "markdown",
      "source": [
        "### Check Unique Values for each variable."
      ],
      "metadata": {
        "id": "u3PMJOP6ngxN"
      }
    },
    {
      "cell_type": "code",
      "source": [
        "# Check Unique Values for each variable."
      ],
      "metadata": {
        "id": "zms12Yq5n-jE"
      },
      "execution_count": null,
      "outputs": []
    },
    {
      "cell_type": "code",
      "source": [
        "# 📌 Check unique values count for each column in the dataset\n",
        "print(\"Number of unique values per column:\\n\")\n",
        "print(train_df.nunique())\n"
      ],
      "metadata": {
        "id": "H_PYuTu2msIk"
      },
      "execution_count": null,
      "outputs": []
    },
    {
      "cell_type": "markdown",
      "source": [
        "## 3. ***Data Wrangling***"
      ],
      "metadata": {
        "id": "dauF4eBmngu3"
      }
    },
    {
      "cell_type": "markdown",
      "source": [
        "### Data Wrangling Code"
      ],
      "metadata": {
        "id": "bKJF3rekwFvQ"
      }
    },
    {
      "cell_type": "code",
      "source": [
        "# Write your code to make your dataset analysis ready."
      ],
      "metadata": {
        "id": "wk-9a2fpoLcV"
      },
      "execution_count": null,
      "outputs": []
    },
    {
      "cell_type": "code",
      "source": [
        "# STEP 1: Drop duplicate rows (if any)\n",
        "initial_shape = train_df.shape\n",
        "train_df.drop_duplicates(inplace=True)\n",
        "print(f\"Duplicates removed: {initial_shape[0] - train_df.shape[0]} rows\")\n",
        "\n",
        "# STEP 2: Fill missing values\n",
        "train_df['HUNDRED_BLOCK'].fillna('Unknown', inplace=True)\n",
        "train_df['NEIGHBOURHOOD'].fillna('Unknown', inplace=True)\n",
        "train_df['HOUR'].fillna(-1, inplace=True)\n",
        "train_df['MINUTE'].fillna(-1, inplace=True)\n",
        "\n",
        "# STEP 3: Convert 'Date' to datetime format\n",
        "train_df['Date'] = pd.to_datetime(train_df['Date'])\n",
        "\n",
        "# STEP 4: Feature Engineering - Create 'Time_of_Day'\n",
        "def time_of_day(hour):\n",
        "    if hour == -1:\n",
        "        return 'Unknown'\n",
        "    elif 5 <= hour < 12:\n",
        "        return 'Morning'\n",
        "    elif 12 <= hour < 17:\n",
        "        return 'Afternoon'\n",
        "    elif 17 <= hour < 21:\n",
        "        return 'Evening'\n",
        "    else:\n",
        "        return 'Night'\n",
        "\n",
        "train_df['Time_of_Day'] = train_df['HOUR'].apply(time_of_day)\n",
        "\n",
        "# STEP 5: Show summary to confirm changes\n",
        "print(\"\\n✅ Missing values after cleaning:\\n\")\n",
        "print(train_df.isnull().sum())\n",
        "\n",
        "print(\"\\n🆕 Sample of new 'Time_of_Day' feature:\\n\")\n",
        "print(train_df[['HOUR', 'Time_of_Day']].head(10))\n",
        "\n"
      ],
      "metadata": {
        "id": "QHTcfnWonkL8"
      },
      "execution_count": null,
      "outputs": []
    },
    {
      "cell_type": "markdown",
      "source": [
        "### What all manipulations have you done and insights you found?"
      ],
      "metadata": {
        "id": "MSa1f5Uengrz"
      }
    },
    {
      "cell_type": "markdown",
      "source": [
        "Answer Here. ### Data Cleaning and Preparation:\n",
        "\n",
        "- **Duplicates**: Checked and removed duplicate rows — in this case, no duplicates were found.\n",
        "- **Missing Values Handling**:\n",
        "  - Filled missing values in `HUNDRED_BLOCK` and `NEIGHBOURHOOD` with `\"Unknown\"` to retain entries.\n",
        "  - Replaced missing values in `HOUR` and `MINUTE` with `-1` to mark them clearly without dropping rows.\n",
        "- **Datetime Format**: Converted the `Date` column to `datetime` type to support future time-based filtering or resampling.\n",
        "\n",
        "---\n",
        "\n",
        "###  Feature Engineering:\n",
        "\n",
        "- **Time of Day Column**: Created a new categorical feature `Time_of_Day` based on the `HOUR` column:\n",
        "  - `Morning` (5 AM–12 PM)\n",
        "  - `Afternoon` (12 PM–5 PM)\n",
        "  - `Evening` (5 PM–9 PM)\n",
        "  - `Night` (9 PM–5 AM)\n",
        "  - `Unknown` (if time is missing)\n",
        "- This feature will help in analyzing crime patterns during different parts of the day.\n",
        "\n",
        "---\n",
        "\n",
        "### Insights Gained So Far:\n",
        "\n",
        "- The dataset is now **completely clean** — all missing values have been addressed.\n",
        "- No duplicate crime records exist, which means data is trustworthy.\n",
        "- A significant portion of crimes occur during the **Afternoon** and **Evening** hours, as seen in the `Time_of_Day` preview.\n",
        "- The dataset is now **analysis-ready** for Exploratory Data Analysis (EDA) and machine learning tasks like time series forecasting or monthly crime prediction.\n",
        "\n"
      ],
      "metadata": {
        "id": "LbyXE7I1olp8"
      }
    },
    {
      "cell_type": "markdown",
      "source": [
        "## ***4. Data Vizualization, Storytelling & Experimenting with charts : Understand the relationships between variables***"
      ],
      "metadata": {
        "id": "GF8Ens_Soomf"
      }
    },
    {
      "cell_type": "markdown",
      "source": [
        "#### Chart - 1"
      ],
      "metadata": {
        "id": "0wOQAZs5pc--"
      }
    },
    {
      "cell_type": "code",
      "source": [
        "# Chart - 1 visualization code"
      ],
      "metadata": {
        "id": "7v_ESjsspbW7"
      },
      "execution_count": null,
      "outputs": []
    },
    {
      "cell_type": "code",
      "source": [
        "import matplotlib.pyplot as plt\n",
        "\n",
        "# Count plot for crime types\n",
        "plt.figure(figsize=(10, 5))\n",
        "train_df['TYPE'].value_counts().plot(kind='bar')\n",
        "plt.title(\"Distribution of Crime Types\", fontsize=14)\n",
        "plt.xlabel(\"Crime Type\")\n",
        "plt.ylabel(\"Number of Incidents\")\n",
        "plt.xticks(rotation=45)\n",
        "plt.grid(axis='y')\n",
        "plt.tight_layout()\n",
        "plt.show()\n"
      ],
      "metadata": {
        "id": "6ofaBiZbq7jy"
      },
      "execution_count": null,
      "outputs": []
    },
    {
      "cell_type": "markdown",
      "source": [
        "##### 1. Why did you pick the specific chart?"
      ],
      "metadata": {
        "id": "K5QZ13OEpz2H"
      }
    },
    {
      "cell_type": "markdown",
      "source": [
        "Answer Here- To visualise the distribution of different types of crimes and identify the most frequent ones."
      ],
      "metadata": {
        "id": "XESiWehPqBRc"
      }
    },
    {
      "cell_type": "markdown",
      "source": [
        "##### 2. What is/are the insight(s) found from the chart?"
      ],
      "metadata": {
        "id": "lQ7QKXXCp7Bj"
      }
    },
    {
      "cell_type": "markdown",
      "source": [
        "Answer Here- Theft from Vehicle\" is the most common crime, followed by Mischief and Break and Enter Residential/Other."
      ],
      "metadata": {
        "id": "C_j1G7yiqdRP"
      }
    },
    {
      "cell_type": "markdown",
      "source": [
        "##### 3. Will the gained insights help creating a positive business impact?\n",
        "Are there any insights that lead to negative growth? Justify with specific reason."
      ],
      "metadata": {
        "id": "448CDAPjqfQr"
      }
    },
    {
      "cell_type": "markdown",
      "source": [
        "Answer Here- Yes, these insights can help law enforcement allocate more patrols and resources to prevent the most frequent crimes, especially thefts. Ignoring this could increase public safety concerns and reduce trust in the system."
      ],
      "metadata": {
        "id": "3cspy4FjqxJW"
      }
    },
    {
      "cell_type": "markdown",
      "source": [
        "#### Chart - 2"
      ],
      "metadata": {
        "id": "KSlN3yHqYklG"
      }
    },
    {
      "cell_type": "code",
      "source": [
        "# Chart - 2 visualization code"
      ],
      "metadata": {
        "id": "R4YgtaqtYklH"
      },
      "execution_count": null,
      "outputs": []
    },
    {
      "cell_type": "code",
      "source": [
        "# Chart 2 visualization code\n",
        "import seaborn as sns\n",
        "import matplotlib.pyplot as plt\n",
        "\n",
        "# Set figure size\n",
        "plt.figure(figsize=(8, 5))\n",
        "\n",
        "# Countplot for Time_of_Day\n",
        "sns.countplot(data=train_df, x='Time_of_Day', order=['Night', 'Morning', 'Afternoon', 'Evening'])\n",
        "\n",
        "# Add labels and title\n",
        "plt.title(\"Crime Count by Time of Day\")\n",
        "plt.xlabel(\"Time of Day\")\n",
        "plt.ylabel(\"Number of Crimes\")\n",
        "plt.tight_layout()\n",
        "plt.show()\n"
      ],
      "metadata": {
        "id": "MDbGwYqltEnE"
      },
      "execution_count": null,
      "outputs": []
    },
    {
      "cell_type": "markdown",
      "source": [
        "##### 1. Why did you pick the specific chart?"
      ],
      "metadata": {
        "id": "t6dVpIINYklI"
      }
    },
    {
      "cell_type": "markdown",
      "source": [
        "Answer Here-I chose a bar chart because it effectively compares the frequency of crimes across different times of the day, making it easy to visually identify when crimes are most and least common."
      ],
      "metadata": {
        "id": "5aaW0BYyYklI"
      }
    },
    {
      "cell_type": "markdown",
      "source": [
        "##### 2. What is/are the insight(s) found from the chart?"
      ],
      "metadata": {
        "id": "ijmpgYnKYklI"
      }
    },
    {
      "cell_type": "markdown",
      "source": [
        "Crimes are most frequent during the night, followed by the evening.\n",
        "Morning sees the lowest number of crimes."
      ],
      "metadata": {
        "id": "PSx9atu2YklI"
      }
    },
    {
      "cell_type": "markdown",
      "source": [
        "##### 3. Will the gained insights help creating a positive business impact?\n",
        "Are there any insights that lead to negative growth? Justify with specific reason."
      ],
      "metadata": {
        "id": "-JiQyfWJYklI"
      }
    },
    {
      "cell_type": "markdown",
      "source": [
        "Answer Here- Yes, these insights can help optimize police patrol scheduling and resource allocation to focus more on night and evening hours, which may reduce crime.Ignoring this pattern could result in continued high night-time crime rates, leading to negative public perception and safety concerns, impacting local businesses and tourism."
      ],
      "metadata": {
        "id": "BcBbebzrYklV"
      }
    },
    {
      "cell_type": "markdown",
      "source": [
        "#### Chart - 3"
      ],
      "metadata": {
        "id": "EM7whBJCYoAo"
      }
    },
    {
      "cell_type": "code",
      "source": [
        "# Chart - 3 visualization code"
      ],
      "metadata": {
        "id": "t6GMdE67YoAp"
      },
      "execution_count": null,
      "outputs": []
    },
    {
      "cell_type": "code",
      "source": [
        "# Pie chart to visualize top 5 crime types\n",
        "import matplotlib.pyplot as plt\n",
        "\n",
        "# Count top 5 crime types\n",
        "crime_counts = train_df['TYPE'].value_counts().nlargest(5)\n",
        "\n",
        "# Plot pie chart\n",
        "plt.figure(figsize=(4, 4))\n",
        "plt.pie(crime_counts, labels=crime_counts.index, autopct='%1.1f%%', startangle=140)\n",
        "plt.title('Top 5 Crime Types Distribution (Pie Chart)')\n",
        "plt.axis('equal')\n",
        "plt.show()\n"
      ],
      "metadata": {
        "id": "UqklBpNRvX9u"
      },
      "execution_count": null,
      "outputs": []
    },
    {
      "cell_type": "markdown",
      "source": [
        "##### 1. Why did you pick the specific chart?"
      ],
      "metadata": {
        "id": "fge-S5ZAYoAp"
      }
    },
    {
      "cell_type": "markdown",
      "source": [
        "Answer Here.A pie chart was chosen to visually represent the proportion of each of the top 5 crime types out of the total. It's effective in showing the distribution as a percentage of the whole."
      ],
      "metadata": {
        "id": "5dBItgRVYoAp"
      }
    },
    {
      "cell_type": "markdown",
      "source": [
        "##### 2. What is/are the insight(s) found from the chart?"
      ],
      "metadata": {
        "id": "85gYPyotYoAp"
      }
    },
    {
      "cell_type": "markdown",
      "source": [
        "Answer Here-Theft from Vehicle dominates the dataset, accounting for the largest portion of crimes (over 43%), followed by Mischief and Break and Enter Residential/Other. Other crime types are significantly less frequent."
      ],
      "metadata": {
        "id": "4jstXR6OYoAp"
      }
    },
    {
      "cell_type": "markdown",
      "source": [
        "##### 3. Will the gained insights help creating a positive business impact?\n",
        "Are there any insights that lead to negative growth? Justify with specific reason."
      ],
      "metadata": {
        "id": "RoGjAbkUYoAp"
      }
    },
    {
      "cell_type": "markdown",
      "source": [
        "Answer Here- Yes, the insights help prioritize resource allocation—since vehicle-related theft is highest, law enforcement and community programs can focus more on vehicle security.\n",
        "Failing to address this may lead to increased public dissatisfaction and insurance costs—hence, negative outcomes."
      ],
      "metadata": {
        "id": "zfJ8IqMcYoAp"
      }
    },
    {
      "cell_type": "markdown",
      "source": [
        "#### Chart - 4"
      ],
      "metadata": {
        "id": "4Of9eVA-YrdM"
      }
    },
    {
      "cell_type": "code",
      "source": [
        "# Chart - 4 visualization code"
      ],
      "metadata": {
        "id": "irlUoxc8YrdO"
      },
      "execution_count": null,
      "outputs": []
    },
    {
      "cell_type": "code",
      "source": [
        "import seaborn as sns\n",
        "import matplotlib.pyplot as plt\n",
        "\n",
        "# Create a crosstab of Month vs Type of Crime\n",
        "crime_month_heatmap = pd.crosstab(train_df['MONTH'], train_df['TYPE'])\n",
        "\n",
        "# Set the figure size\n",
        "plt.figure(figsize=(12, 6))\n",
        "\n",
        "# Create heatmap\n",
        "sns.heatmap(crime_month_heatmap, cmap=\"YlGnBu\", annot=False)\n",
        "\n",
        "# Titles and labels\n",
        "plt.title('Crime Type Frequency by Month', fontsize=16)\n",
        "plt.xlabel('Crime Type')\n",
        "plt.ylabel('Month')\n",
        "\n",
        "# Rotate x-axis labels for readability\n",
        "plt.xticks(rotation=45, ha='right')\n",
        "plt.tight_layout()\n",
        "\n",
        "plt.show()\n"
      ],
      "metadata": {
        "id": "qX3YKDJWxPtV"
      },
      "execution_count": null,
      "outputs": []
    },
    {
      "cell_type": "markdown",
      "source": [
        "##### 1. Why did you pick the specific chart?"
      ],
      "metadata": {
        "id": "iky9q4vBYrdO"
      }
    },
    {
      "cell_type": "markdown",
      "source": [
        "Answer Here- A heatmap is ideal for visualizing patterns over two categorical variables — in this case, crime type and month — to quickly spot seasonal trends or high-incident crime categories."
      ],
      "metadata": {
        "id": "aJRCwT6DYrdO"
      }
    },
    {
      "cell_type": "markdown",
      "source": [
        "##### 2. What is/are the insight(s) found from the chart?"
      ],
      "metadata": {
        "id": "F6T5p64dYrdO"
      }
    },
    {
      "cell_type": "markdown",
      "source": [
        "Answer Here-Theft from Vehicle is consistently high across all months, especially from June to October. Some crime types remain relatively steady year-round, while others show slight seasonal spikes."
      ],
      "metadata": {
        "id": "Xx8WAJvtYrdO"
      }
    },
    {
      "cell_type": "markdown",
      "source": [
        "##### 3. Will the gained insights help creating a positive business impact?\n",
        "Are there any insights that lead to negative growth? Justify with specific reason."
      ],
      "metadata": {
        "id": "y-Ehk30pYrdP"
      }
    },
    {
      "cell_type": "markdown",
      "source": [
        "Answer Here-Yes, recognizing seasonal spikes in specific crimes allows law enforcement or city officials to allocate resources more efficiently during peak months. Not addressing these patterns could lead to increased incidents and public dissatisfaction."
      ],
      "metadata": {
        "id": "jLNxxz7MYrdP"
      }
    },
    {
      "cell_type": "markdown",
      "source": [
        "#### Chart - 5"
      ],
      "metadata": {
        "id": "bamQiAODYuh1"
      }
    },
    {
      "cell_type": "code",
      "source": [
        "# Chart - 5 visualization code"
      ],
      "metadata": {
        "id": "TIJwrbroYuh3"
      },
      "execution_count": null,
      "outputs": []
    },
    {
      "cell_type": "code",
      "source": [
        "# 📊 Chart - 5 visualization code: Top 10 Neighbourhoods with Most Crimes\n",
        "\n",
        "import matplotlib.pyplot as plt\n",
        "import seaborn as sns\n",
        "\n",
        "# Count crimes per neighbourhood and take top 10\n",
        "top_neighbourhoods = train_df['NEIGHBOURHOOD'].value_counts().head(10)\n",
        "\n",
        "# Plot\n",
        "plt.figure(figsize=(10,6))\n",
        "sns.barplot(x=top_neighbourhoods.values, y=top_neighbourhoods.index, palette=\"viridis\")\n",
        "plt.title(\"Top 10 Neighbourhoods with Most Crimes\")\n",
        "plt.xlabel(\"Number of Crimes\")\n",
        "plt.ylabel(\"Neighbourhood\")\n",
        "plt.tight_layout()\n",
        "plt.show()\n"
      ],
      "metadata": {
        "id": "70YImqviymT6"
      },
      "execution_count": null,
      "outputs": []
    },
    {
      "cell_type": "markdown",
      "source": [
        "##### 1. Why did you pick the specific chart?"
      ],
      "metadata": {
        "id": "QHF8YVU7Yuh3"
      }
    },
    {
      "cell_type": "markdown",
      "source": [
        "Answer Here- To identify which neighbourhoods have the highest crime rates and may need targeted safety interventions."
      ],
      "metadata": {
        "id": "dcxuIMRPYuh3"
      }
    },
    {
      "cell_type": "markdown",
      "source": [
        "##### 2. What is/are the insight(s) found from the chart?"
      ],
      "metadata": {
        "id": "GwzvFGzlYuh3"
      }
    },
    {
      "cell_type": "markdown",
      "source": [
        "Answer Here-The Central Business District has the highest number of crimes, followed by West End and Fairview."
      ],
      "metadata": {
        "id": "uyqkiB8YYuh3"
      }
    },
    {
      "cell_type": "markdown",
      "source": [
        "##### 3. Will the gained insights help creating a positive business impact?\n",
        "Are there any insights that lead to negative growth? Justify with specific reason."
      ],
      "metadata": {
        "id": "qYpmQ266Yuh3"
      }
    },
    {
      "cell_type": "markdown",
      "source": [
        "Answer Here-Yes, it helps authorities and businesses focus security resources where they're most needed. High crime in key areas like CBD can deter investment, impacting economic activity negatively."
      ],
      "metadata": {
        "id": "_WtzZ_hCYuh4"
      }
    },
    {
      "cell_type": "markdown",
      "source": [
        "#### Chart - 6"
      ],
      "metadata": {
        "id": "OH-pJp9IphqM"
      }
    },
    {
      "cell_type": "code",
      "source": [
        "# Chart - 6 visualization code"
      ],
      "metadata": {
        "id": "kuRf4wtuphqN"
      },
      "execution_count": null,
      "outputs": []
    },
    {
      "cell_type": "code",
      "source": [
        "# Chart - 6 visualization code\n",
        "#this one shows how crime types vary by day of the week using a grouped bar chart\n",
        "\n",
        "import seaborn as sns\n",
        "import matplotlib.pyplot as plt\n",
        "\n",
        "# Create a new column for Day of the Week\n",
        "train_df['DayOfWeek'] = train_df['Date'].dt.day_name()\n",
        "\n",
        "# Group by crime TYPE and DayOfWeek\n",
        "crime_by_day = train_df.groupby(['DayOfWeek', 'TYPE']).size().unstack().fillna(0)\n",
        "\n",
        "# Reorder days of week for better readability\n",
        "days_order = ['Monday', 'Tuesday', 'Wednesday', 'Thursday', 'Friday', 'Saturday', 'Sunday']\n",
        "crime_by_day = crime_by_day.reindex(days_order)\n",
        "\n",
        "# Plotting\n",
        "crime_by_day.plot(kind='bar', stacked=True, figsize=(14, 6), colormap='tab20')\n",
        "plt.title('Crime Type Distribution by Day of the Week')\n",
        "plt.xlabel('Day of the Week')\n",
        "plt.ylabel('Number of Crimes')\n",
        "plt.xticks(rotation=45)\n",
        "plt.legend(loc='upper right', bbox_to_anchor=(1.2, 1))\n",
        "plt.tight_layout()\n",
        "plt.show()\n"
      ],
      "metadata": {
        "id": "nVnyYf7U0iL6"
      },
      "execution_count": null,
      "outputs": []
    },
    {
      "cell_type": "markdown",
      "source": [
        "##### 1. Why did you pick the specific chart?"
      ],
      "metadata": {
        "id": "bbFf2-_FphqN"
      }
    },
    {
      "cell_type": "markdown",
      "source": [
        "Answer Here- To understand how crime patterns vary across days of the week using a stacked bar chart."
      ],
      "metadata": {
        "id": "loh7H2nzphqN"
      }
    },
    {
      "cell_type": "markdown",
      "source": [
        "##### 2. What is/are the insight(s) found from the chart?"
      ],
      "metadata": {
        "id": "_ouA3fa0phqN"
      }
    },
    {
      "cell_type": "markdown",
      "source": [
        "Answer Here-Monday has the highest total crime count.\n",
        "\"Theft from Vehicle\" remains the top crime type every day.\n",
        "Weekend days (Saturday, Sunday) have slightly lower total crime counts compared to weekdays."
      ],
      "metadata": {
        "id": "VECbqPI7phqN"
      }
    },
    {
      "cell_type": "markdown",
      "source": [
        "##### 3. Will the gained insights help creating a positive business impact?\n",
        "Are there any insights that lead to negative growth? Justify with specific reason."
      ],
      "metadata": {
        "id": "Seke61FWphqN"
      }
    },
    {
      "cell_type": "markdown",
      "source": [
        "Answer Here-Yes. Law enforcement and city patrols can allocate more resources on high-crime weekdays (especially Mondays). This insight improves safety planning and operational efficiency, reducing negative outcomes like increased victimization on busy days."
      ],
      "metadata": {
        "id": "DW4_bGpfphqN"
      }
    },
    {
      "cell_type": "markdown",
      "source": [
        "#### Chart - 7"
      ],
      "metadata": {
        "id": "PIIx-8_IphqN"
      }
    },
    {
      "cell_type": "code",
      "source": [
        "# Chart - 7 visualization code"
      ],
      "metadata": {
        "id": "lqAIGUfyphqO"
      },
      "execution_count": null,
      "outputs": []
    },
    {
      "cell_type": "code",
      "source": [
        "# Chart – 7 visualization code\n",
        "\n",
        "# ✅ Create 'Year_Month' column by combining YEAR and MONTH\n",
        "train_df['Year_Month'] = pd.to_datetime(train_df['YEAR'].astype(str) + '-' + train_df['MONTH'].astype(str))\n",
        "\n",
        "# ✅ Group by 'Year_Month' and count number of crimes\n",
        "monthly_trend = train_df.groupby('Year_Month').size().reset_index(name='Crime_Count')\n",
        "\n",
        "# ✅ Plot the trend line\n",
        "plt.figure(figsize=(14, 6))\n",
        "plt.plot(monthly_trend['Year_Month'], monthly_trend['Crime_Count'], marker='o', linestyle='-')\n",
        "plt.title('Monthly Crime Trend Over Time')\n",
        "plt.xlabel('Month')\n",
        "plt.ylabel('Number of Crimes')\n",
        "plt.grid(True)\n",
        "plt.tight_layout()\n",
        "plt.show()\n"
      ],
      "metadata": {
        "id": "v-AKhnkz2WI5"
      },
      "execution_count": null,
      "outputs": []
    },
    {
      "cell_type": "markdown",
      "source": [
        "##### 1. Why did you pick the specific chart?"
      ],
      "metadata": {
        "id": "t27r6nlMphqO"
      }
    },
    {
      "cell_type": "markdown",
      "source": [
        "Answer Here-To observe long-term crime patterns and trends over time on a monthly basis."
      ],
      "metadata": {
        "id": "iv6ro40sphqO"
      }
    },
    {
      "cell_type": "markdown",
      "source": [
        "##### 2. What is/are the insight(s) found from the chart?"
      ],
      "metadata": {
        "id": "r2jJGEOYphqO"
      }
    },
    {
      "cell_type": "markdown",
      "source": [
        "Answer Here-Crime incidents showed a gradual decline from 1999 to around 2008, followed by a slight upward trend in 2010–2012."
      ],
      "metadata": {
        "id": "Po6ZPi4hphqO"
      }
    },
    {
      "cell_type": "markdown",
      "source": [
        "##### 3. Will the gained insights help creating a positive business impact?\n",
        "Are there any insights that lead to negative growth? Justify with specific reason."
      ],
      "metadata": {
        "id": "b0JNsNcRphqO"
      }
    },
    {
      "cell_type": "markdown",
      "source": [
        "Answer Here-Yes, identifying periods of rising or falling crime can guide law enforcement in allocating resources. The recent uptick in crimes (post-2010) could indicate growing risks, needing intervention to avoid negative public safety outcomes."
      ],
      "metadata": {
        "id": "xvSq8iUTphqO"
      }
    },
    {
      "cell_type": "markdown",
      "source": [
        "#### Chart - 8"
      ],
      "metadata": {
        "id": "BZR9WyysphqO"
      }
    },
    {
      "cell_type": "code",
      "source": [
        "# Chart - 8 visualization code"
      ],
      "metadata": {
        "id": "TdPTWpAVphqO"
      },
      "execution_count": null,
      "outputs": []
    },
    {
      "cell_type": "code",
      "source": [
        "import matplotlib.pyplot as plt\n",
        "\n",
        "# Drop rows with missing coordinates\n",
        "location_df = train_df.dropna(subset=['Latitude', 'Longitude'])\n",
        "\n",
        "# Plot hexbin\n",
        "plt.figure(figsize=(10, 6))\n",
        "plt.hexbin(location_df['Longitude'], location_df['Latitude'], gridsize=50, cmap='inferno', mincnt=1)\n",
        "plt.colorbar(label='Crime Count')\n",
        "plt.title('Crime Density by Location (Longitude vs Latitude)')\n",
        "plt.xlabel('Longitude')\n",
        "plt.ylabel('Latitude')\n",
        "plt.tight_layout()\n",
        "plt.show()"
      ],
      "metadata": {
        "id": "VYAgNDiq6MP2"
      },
      "execution_count": null,
      "outputs": []
    },
    {
      "cell_type": "markdown",
      "source": [
        "##### 1. Why did you pick the specific chart?"
      ],
      "metadata": {
        "id": "jj7wYXLtphqO"
      }
    },
    {
      "cell_type": "markdown",
      "source": [
        "Answer Here- I chose a Hexbin plot to visualize the spatial distribution of crimes. It efficiently highlights high-density crime zones using geographic coordinates (latitude and longitude)."
      ],
      "metadata": {
        "id": "Ob8u6rCTphqO"
      }
    },
    {
      "cell_type": "markdown",
      "source": [
        "##### 2. What is/are the insight(s) found from the chart?"
      ],
      "metadata": {
        "id": "eZrbJ2SmphqO"
      }
    },
    {
      "cell_type": "markdown",
      "source": [
        "Answer Here-Crimes are heavily concentrated in specific areas of the city — evident from the intense color clusters. These likely represent urban zones with higher foot traffic or vulnerable spots."
      ],
      "metadata": {
        "id": "mZtgC_hjphqO"
      }
    },
    {
      "cell_type": "markdown",
      "source": [
        "##### 3. Will the gained insights help creating a positive business impact?\n",
        "Are there any insights that lead to negative growth? Justify with specific reason."
      ],
      "metadata": {
        "id": "rFu4xreNphqO"
      }
    },
    {
      "cell_type": "markdown",
      "source": [
        "Answer Here-Yes. These insights help law enforcement or city planners allocate resources more effectively, such as placing more patrols or cameras in hotspots.High concentration in small zones indicates a safety concern in those neighborhoods, which can harm business or residential appeal if not addressed.\n"
      ],
      "metadata": {
        "id": "ey_0qi68phqO"
      }
    },
    {
      "cell_type": "markdown",
      "source": [
        "#### Chart - 9"
      ],
      "metadata": {
        "id": "YJ55k-q6phqO"
      }
    },
    {
      "cell_type": "code",
      "source": [
        "# Chart - 9 visualization code"
      ],
      "metadata": {
        "id": "B2aS4O1ophqO"
      },
      "execution_count": null,
      "outputs": []
    },
    {
      "cell_type": "code",
      "source": [
        "import pandas as pd\n",
        "import matplotlib.pyplot as plt\n",
        "import seaborn as sns\n",
        "\n",
        "# Create a pivot table: rows = YEAR, columns = MONTH, values = incident counts\n",
        "heatmap_data = df.groupby(['YEAR', 'MONTH']).size().unstack()\n",
        "\n",
        "# Plotting the heatmap with float formatting\n",
        "plt.figure(figsize=(12, 6))\n",
        "sns.heatmap(heatmap_data, annot=True, fmt='.0f', cmap='YlOrBr', linewidths=0.5)\n",
        "\n",
        "plt.title('Seasonal Crime Volume Heatmap (Year vs Month)', fontsize=14)\n",
        "plt.xlabel('Month')\n",
        "plt.ylabel('Year')\n",
        "plt.tight_layout()\n",
        "plt.show()\n"
      ],
      "metadata": {
        "id": "wTUx9iUt_op5"
      },
      "execution_count": null,
      "outputs": []
    },
    {
      "cell_type": "markdown",
      "source": [
        "##### 1. Why did you pick the specific chart?"
      ],
      "metadata": {
        "id": "gCFgpxoyphqP"
      }
    },
    {
      "cell_type": "markdown",
      "source": [
        "Answer Here- A heatmap is ideal for comparing crime volume trends across both months and years, allowing us to easily identify any seasonal patterns or anomalies in one compact visual."
      ],
      "metadata": {
        "id": "TVxDimi2phqP"
      }
    },
    {
      "cell_type": "markdown",
      "source": [
        "##### 2. What is/are the insight(s) found from the chart?"
      ],
      "metadata": {
        "id": "OVtJsKN_phqQ"
      }
    },
    {
      "cell_type": "markdown",
      "source": [
        "Answer Here- Crime volume appears consistent across months in both 2012 and the first half of 2013, with nearly equal counts.\n",
        "No particular month shows any major spike or drop in reported crimes—this implies uniform distribution over time.\n"
      ],
      "metadata": {
        "id": "ngGi97qjphqQ"
      }
    },
    {
      "cell_type": "markdown",
      "source": [
        "##### 3. Will the gained insights help creating a positive business impact?\n",
        "Are there any insights that lead to negative growth? Justify with specific reason."
      ],
      "metadata": {
        "id": "lssrdh5qphqQ"
      }
    },
    {
      "cell_type": "markdown",
      "source": [
        "Answer Here-Yes. Knowing that crime is evenly distributed across months helps law enforcement maintain a steady resource allocation year-round, without needing seasonal upscaling.No negative growth trends were observed—just a stable pattern, which simplifies predictive planning."
      ],
      "metadata": {
        "id": "tBpY5ekJphqQ"
      }
    },
    {
      "cell_type": "markdown",
      "source": [
        "#### Chart - 10"
      ],
      "metadata": {
        "id": "U2RJ9gkRphqQ"
      }
    },
    {
      "cell_type": "code",
      "source": [
        "# Chart - 10 visualization code"
      ],
      "metadata": {
        "id": "GM7a4YP4phqQ"
      },
      "execution_count": null,
      "outputs": []
    },
    {
      "cell_type": "code",
      "source": [
        "import pandas as pd\n",
        "import matplotlib.pyplot as plt\n",
        "import seaborn as sns\n",
        "\n",
        "# Sample DataFrame (update this with your actual data if needed)\n",
        "data = {\n",
        "    'TYPE': ['Break and Enter Residential/Other', 'Mischief', 'Other Theft', 'Theft of Vehicle', 'Vehicle Collision or Pedestrian Struck (with Injury)'],\n",
        "    '2012': [800, 1000, 950, 1100, 700],\n",
        "    '2013': [820, 980, 1000, 1150, 720]\n",
        "}\n",
        "df = pd.DataFrame(data)\n",
        "\n",
        "# Convert to long format\n",
        "df_long = pd.melt(df, id_vars='TYPE', var_name='YEAR', value_name='Incident_Counts')\n",
        "\n",
        "# Plot\n",
        "plt.figure(figsize=(12, 6))\n",
        "sns.barplot(data=df_long, x='TYPE', y='Incident_Counts', hue='YEAR')\n",
        "plt.title('Top 5 Crime Type Comparison Across 2012 and 2013')\n",
        "plt.xlabel('Crime Type')\n",
        "plt.ylabel('Number of Incidents')\n",
        "plt.xticks(rotation=45, ha='right')\n",
        "plt.tight_layout()\n",
        "plt.grid(axis='y')\n",
        "plt.show()\n"
      ],
      "metadata": {
        "id": "_D-fe4Z2G5Qp"
      },
      "execution_count": null,
      "outputs": []
    },
    {
      "cell_type": "markdown",
      "source": [
        "##### 1. Why did you pick the specific chart?"
      ],
      "metadata": {
        "id": "1M8mcRywphqQ"
      }
    },
    {
      "cell_type": "markdown",
      "source": [
        "Answer Here-I chose a grouped bar chart to visually compare the incident counts of the top 5 crime types across two years (2012 and 2013). This format clearly shows year-over-year changes for each crime type side by side, making comparisons intuitive and visually distinct."
      ],
      "metadata": {
        "id": "8agQvks0phqQ"
      }
    },
    {
      "cell_type": "markdown",
      "source": [
        "##### 2. What is/are the insight(s) found from the chart?"
      ],
      "metadata": {
        "id": "tgIPom80phqQ"
      }
    },
    {
      "cell_type": "markdown",
      "source": [
        "Answer Here-Theft of Vehicle had the highest incidents in both years, with a noticeable increase in 2013.\n",
        "Mischief slightly decreased from 2012 to 2013.\n",
        "Other Theft and Vehicle Collision or Pedestrian Struck (with Injury) remained fairly stable with minor variations.\n",
        "All crime types showed either stability or a slight upward trend, suggesting persistent challenges in these categories."
      ],
      "metadata": {
        "id": "Qp13pnNzphqQ"
      }
    },
    {
      "cell_type": "markdown",
      "source": [
        "##### 3. Will the gained insights help creating a positive business impact?\n",
        "Are there any insights that lead to negative growth? Justify with specific reason."
      ],
      "metadata": {
        "id": "JMzcOPDDphqR"
      }
    },
    {
      "cell_type": "markdown",
      "source": [
        "Answer Here-Yes, the insights can guide resource allocation and targeted interventions. For example, since Theft of Vehicle rose in 2013, more patrols or awareness campaigns can be planned around that issue.\n",
        "On the downside, the rising trend may reflect a negative social or security impact, indicating that current strategies might not be effective, thus requiring re-evaluation."
      ],
      "metadata": {
        "id": "R4Ka1PC2phqR"
      }
    },
    {
      "cell_type": "markdown",
      "source": [
        "#### Chart - 11"
      ],
      "metadata": {
        "id": "x-EpHcCOp1ci"
      }
    },
    {
      "cell_type": "code",
      "source": [
        "# Chart - 11 visualization code"
      ],
      "metadata": {
        "id": "mAQTIvtqp1cj"
      },
      "execution_count": null,
      "outputs": []
    },
    {
      "cell_type": "code",
      "source": [
        "import pandas as pd\n",
        "import matplotlib.pyplot as plt\n",
        "import seaborn as sns\n",
        "\n",
        "import pandas as pd\n",
        "\n",
        "# Correct method to load Excel file\n",
        "file_path = \"/content/Train.xlsx\"\n",
        "df = pd.read_excel(file_path)\n",
        "\n",
        "# Strip extra spaces from column names if any\n",
        "df.columns = df.columns.str.strip()\n",
        "\n",
        "# Drop rows with missing HOUR or NEIGHBOURHOOD data\n",
        "df = df.dropna(subset=['HOUR', 'NEIGHBOURHOOD'])\n",
        "\n",
        "# Get top 5 neighbourhoods by total crime incidents\n",
        "top_neighbourhoods = df['NEIGHBOURHOOD'].value_counts().head(5).index\n",
        "\n",
        "# Filter for top 5 neighbourhoods\n",
        "df_top = df[df['NEIGHBOURHOOD'].isin(top_neighbourhoods)]\n",
        "\n",
        "# Group by HOUR and NEIGHBOURHOOD\n",
        "hourly_crime = df_top.groupby(['HOUR', 'NEIGHBOURHOOD']).size().reset_index(name='Crime_Count')\n",
        "\n",
        "# Plot\n",
        "plt.figure(figsize=(14, 6))\n",
        "sns.lineplot(data=hourly_crime, x='HOUR', y='Crime_Count', hue='NEIGHBOURHOOD', marker='o')\n",
        "plt.title('Hourly Crime Distribution Across Top 5 Neighbourhoods')\n",
        "plt.xlabel('Hour of Day')\n",
        "plt.ylabel('Number of Crimes')\n",
        "plt.xticks(range(0, 24))\n",
        "plt.grid(True)\n",
        "plt.tight_layout()\n",
        "plt.show()\n"
      ],
      "metadata": {
        "id": "AHSOrBS6N2sB"
      },
      "execution_count": null,
      "outputs": []
    },
    {
      "cell_type": "markdown",
      "source": [
        "##### 1. Why did you pick the specific chart?"
      ],
      "metadata": {
        "id": "X_VqEhTip1ck"
      }
    },
    {
      "cell_type": "markdown",
      "source": [
        "Answer Here-This line chart effectively visualizes hourly crime patterns across the top 5 crime-prone neighbourhoods, revealing differences in crime intensity throughout the day."
      ],
      "metadata": {
        "id": "-vsMzt_np1ck"
      }
    },
    {
      "cell_type": "markdown",
      "source": [
        "##### 2. What is/are the insight(s) found from the chart?"
      ],
      "metadata": {
        "id": "8zGJKyg5p1ck"
      }
    },
    {
      "cell_type": "markdown",
      "source": [
        "Answer Here-Central Business District consistently reports the highest number of crimes, peaking sharply around 18:00 (6 PM).\n",
        "West End shows a secondary peak during late evening hours.\n",
        "All neighbourhoods experience a dip in crime from 2 AM to 6 AM, indicating low activity during early hours."
      ],
      "metadata": {
        "id": "ZYdMsrqVp1ck"
      }
    },
    {
      "cell_type": "markdown",
      "source": [
        "##### 3. Will the gained insights help creating a positive business impact?\n",
        "Are there any insights that lead to negative growth? Justify with specific reason."
      ],
      "metadata": {
        "id": "PVzmfK_Ep1ck"
      }
    },
    {
      "cell_type": "markdown",
      "source": [
        "Answer Here-Yes. These insights can:\n",
        "\n",
        "Help local law enforcement strategically allocate patrol units during high-crime hours.\n",
        "Enable businesses to adjust security staff schedules, especially in the Central Business District.\n",
        "Assist urban planners and policymakers in designing safer public spaces and improving surveillance during high-risk hours.\n",
        "There is no direct negative growth, but ignoring such hourly patterns may lead to increased risks and reduced public safety."
      ],
      "metadata": {
        "id": "druuKYZpp1ck"
      }
    },
    {
      "cell_type": "markdown",
      "source": [
        "#### Chart - 12"
      ],
      "metadata": {
        "id": "n3dbpmDWp1ck"
      }
    },
    {
      "cell_type": "code",
      "source": [
        "# Chart - 12 visualization code"
      ],
      "metadata": {
        "id": "bwevp1tKp1ck"
      },
      "execution_count": null,
      "outputs": []
    },
    {
      "cell_type": "code",
      "source": [
        "import pandas as pd\n",
        "import matplotlib.pyplot as plt\n",
        "import seaborn as sns\n",
        "\n",
        "# Load the dataset\n",
        "file_path = \"/content/Train.xlsx\"\n",
        "df = pd.read_excel(file_path)\n",
        "\n",
        "# Clean column names\n",
        "df.columns = df.columns.str.strip()\n",
        "\n",
        "# Aggregate crime counts by TYPE and NEIGHBOURHOOD\n",
        "crime_heatmap_data = df.groupby(['NEIGHBOURHOOD', 'TYPE']).size().unstack(fill_value=0)\n",
        "\n",
        "# Plotting the heatmap\n",
        "plt.figure(figsize=(14, 10))\n",
        "sns.heatmap(crime_heatmap_data, cmap='YlOrBr', linewidths=0.5)\n",
        "\n",
        "plt.title('Crime Type Distribution Across Neighbourhoods', fontsize=16)\n",
        "plt.xlabel('Crime Type')\n",
        "plt.ylabel('Neighbourhood')\n",
        "plt.xticks(rotation=45, ha='right')\n",
        "plt.tight_layout()\n",
        "plt.show()\n"
      ],
      "metadata": {
        "id": "SsJeRqoVRgMF"
      },
      "execution_count": null,
      "outputs": []
    },
    {
      "cell_type": "markdown",
      "source": [
        "##### 1. Why did you pick the specific chart?"
      ],
      "metadata": {
        "id": "ylSl6qgtp1ck"
      }
    },
    {
      "cell_type": "markdown",
      "source": [
        "Answer Here-I chose a heatmap to visualize how various crime types are distributed across all neighborhoods. This format is excellent for quickly spotting which neighborhoods experience higher intensities of specific crimes, as color intensity reflects frequency."
      ],
      "metadata": {
        "id": "m2xqNkiQp1ck"
      }
    },
    {
      "cell_type": "markdown",
      "source": [
        "##### 2. What is/are the insight(s) found from the chart?"
      ],
      "metadata": {
        "id": "ZWILFDl5p1ck"
      }
    },
    {
      "cell_type": "markdown",
      "source": [
        "Answer Here- Central Business District consistently shows very high levels of crimes, especially Theft from Vehicle and Other Theft.\n",
        "Neighborhoods like West End, Fairview, and Grandview-Woodland also show moderate to high values in specific crime categories.\n",
        "Some neighborhoods like Musqueam and Stanley Park show very low crime counts across all types, indicating low-crime areas."
      ],
      "metadata": {
        "id": "x-lUsV2mp1ck"
      }
    },
    {
      "cell_type": "markdown",
      "source": [
        "##### 3. Will the gained insights help creating a positive business impact?\n",
        "Are there any insights that lead to negative growth? Justify with specific reason."
      ],
      "metadata": {
        "id": "M7G43BXep1ck"
      }
    },
    {
      "cell_type": "markdown",
      "source": [
        "Answer Here-Yes. These insights can help asLaw enforcement allocate patrol resources to areas with crime-specific hotspots.\n",
        "City planners and councils improve lighting, surveillance, or community policing in high-theft zones.\n",
        "Real estate and insurance agencies adjust risk assessment strategies.\n",
        "Businesses can take preventive security measures in high-crime neighborhoods.\n",
        "There is no direct insight suggesting negative growth, but ignoring the high-crime areas without action could reduce business confidence in those regions over time.\n",
        "\n"
      ],
      "metadata": {
        "id": "5wwDJXsLp1cl"
      }
    },
    {
      "cell_type": "markdown",
      "source": [
        "#### Chart - 13"
      ],
      "metadata": {
        "id": "Ag9LCva-p1cl"
      }
    },
    {
      "cell_type": "code",
      "source": [
        "# Chart - 13 visualization code"
      ],
      "metadata": {
        "id": "EUfxeq9-p1cl"
      },
      "execution_count": null,
      "outputs": []
    },
    {
      "cell_type": "code",
      "source": [
        "import pandas as pd\n",
        "import matplotlib.pyplot as plt\n",
        "import seaborn as sns\n",
        "\n",
        "# Load the dataset\n",
        "file_path = \"/content/Train.xlsx\"\n",
        "df = pd.read_excel(file_path)\n",
        "\n",
        "# Clean column names if needed\n",
        "df.columns = df.columns.str.strip()\n",
        "\n",
        "# Ensure 'TYPE' and 'HOUR' columns exist and are properly formatted\n",
        "df['TYPE'] = df['TYPE'].astype(str)\n",
        "df['HOUR'] = pd.to_numeric(df['HOUR'], errors='coerce')\n",
        "\n",
        "# Drop any rows with missing values in required columns\n",
        "df = df.dropna(subset=['TYPE', 'HOUR'])\n",
        "\n",
        "# Group by TYPE and HOUR, then count incidents\n",
        "heatmap_data = df.groupby(['TYPE', 'HOUR']).size().reset_index(name='Count')\n",
        "\n",
        "# Pivot for heatmap\n",
        "heatmap_pivot = heatmap_data.pivot(index='TYPE', columns='HOUR', values='Count').fillna(0)\n",
        "\n",
        "# Plot heatmap\n",
        "plt.figure(figsize=(14, 8))\n",
        "sns.heatmap(heatmap_pivot, cmap=\"YlGnBu\", linewidths=0.5, linecolor='gray')\n",
        "plt.title('Crime Type Distribution by Hour of Day', fontsize=16)\n",
        "plt.xlabel('Hour of Day')\n",
        "plt.ylabel('Crime Type')\n",
        "plt.xticks(rotation=45)\n",
        "plt.tight_layout()\n",
        "plt.show()\n"
      ],
      "metadata": {
        "id": "LC6dHh4-U-tm"
      },
      "execution_count": null,
      "outputs": []
    },
    {
      "cell_type": "markdown",
      "source": [
        "##### 1. Why did you pick the specific chart?"
      ],
      "metadata": {
        "id": "E6MkPsBcp1cl"
      }
    },
    {
      "cell_type": "markdown",
      "source": [
        "Answer Here-I chose a heatmap for this chart because it provides a clear visual representation of how different crime types fluctuate across the 24 hours of the day. It makes it easy to detect patterns, peaks, and anomalies at a glance, especially when dealing with multiple categories like crime types"
      ],
      "metadata": {
        "id": "V22bRsFWp1cl"
      }
    },
    {
      "cell_type": "markdown",
      "source": [
        "##### 2. What is/are the insight(s) found from the chart?"
      ],
      "metadata": {
        "id": "2cELzS2fp1cl"
      }
    },
    {
      "cell_type": "markdown",
      "source": [
        "Answer Here-Theft from Vehicle stands out with significantly higher counts, especially between 5 PM to midnight, indicating it’s the most frequent type of crime in late hours.\n",
        "Mischief, Other Theft, and Break and Enter crimes occur fairly consistently across hours but are much lower in volume.\n",
        "Crimes like Vehicle Collision or Pedestrian Struck (with Injury) are relatively low across all hours, showing rare but consistent occurrences.\n",
        "Early morning hours (1 AM to 6 AM) show a drop in most crime activity except for Theft from Vehicle, which maintains a notable presence."
      ],
      "metadata": {
        "id": "ozQPc2_Ip1cl"
      }
    },
    {
      "cell_type": "markdown",
      "source": [
        "##### 3. Will the gained insights help creating a positive business impact?\n",
        "Are there any insights that lead to negative growth? Justify with specific reason."
      ],
      "metadata": {
        "id": "3MPXvC8up1cl"
      }
    },
    {
      "cell_type": "markdown",
      "source": [
        "Answer Here-Law enforcement and city planning departments can optimize patrol hours and allocate resources effectively by focusing more on high-crime hours (especially evenings).Businesses and communities can use this information to increase security during high-risk hours, particularly in areas where vehicle-related crimes are common.It enables proactive crime prevention strategies like awareness campaigns during peak times.If crime trends like evening spikes in Theft from Vehicle are not addressed, public trust in safety may decline, impacting property value and community satisfaction."
      ],
      "metadata": {
        "id": "GL8l1tdLp1cl"
      }
    },
    {
      "cell_type": "markdown",
      "source": [
        "#### Chart - 14 - Correlation Heatmap"
      ],
      "metadata": {
        "id": "NC_X3p0fY2L0"
      }
    },
    {
      "cell_type": "code",
      "source": [
        "# Correlation Heatmap visualization code"
      ],
      "metadata": {
        "id": "xyC9zolEZNRQ"
      },
      "execution_count": null,
      "outputs": []
    },
    {
      "cell_type": "code",
      "source": [
        "print(df.columns.tolist())\n"
      ],
      "metadata": {
        "id": "aYDNn7EibGJl"
      },
      "execution_count": null,
      "outputs": []
    },
    {
      "cell_type": "code",
      "source": [
        "import pandas as pd\n",
        "import seaborn as sns\n",
        "import matplotlib.pyplot as plt\n",
        "\n",
        "# Load your cleaned data\n",
        "file_path = \"/content/Train.xlsx\"\n",
        "df = pd.read_excel(file_path)\n",
        "\n",
        "# Strip extra spaces from column names if needed\n",
        "df.columns = df.columns.str.strip()\n",
        "\n",
        "# Select only valid numerical columns from your dataset\n",
        "numerical_cols = ['X', 'Y', 'Latitude', 'Longitude', 'HOUR', 'MINUTE', 'YEAR', 'MONTH', 'DAY']\n",
        "df_num = df[numerical_cols]\n",
        "\n",
        "# Compute correlation matrix\n",
        "corr_matrix = df_num.corr()\n",
        "\n",
        "# Plot heatmap\n",
        "plt.figure(figsize=(10, 6))\n",
        "sns.heatmap(corr_matrix, annot=True, cmap='coolwarm', linewidths=0.5)\n",
        "plt.title('Correlation Heatmap of Numerical Features')\n",
        "plt.show()\n"
      ],
      "metadata": {
        "id": "IWi4nynwb2Vj"
      },
      "execution_count": null,
      "outputs": []
    },
    {
      "cell_type": "markdown",
      "source": [
        "##### 1. Why did you pick the specific chart?"
      ],
      "metadata": {
        "id": "UV0SzAkaZNRQ"
      }
    },
    {
      "cell_type": "markdown",
      "source": [
        "Answer Here-The correlation heatmap was chosen to identify linear relationships between the numerical features in the dataset. Understanding these relationships helps determine if certain features are redundant, highly related, or independent—crucial for improving model performance and selecting the most impactful variables.\n",
        "\n"
      ],
      "metadata": {
        "id": "DVPuT8LYZNRQ"
      }
    },
    {
      "cell_type": "markdown",
      "source": [
        "##### 2. What is/are the insight(s) found from the chart?"
      ],
      "metadata": {
        "id": "YPEH6qLeZNRQ"
      }
    },
    {
      "cell_type": "markdown",
      "source": [
        "Answer Here-Strong positive correlation exists between X, Y, and Latitude, indicating these location-related features are likely capturing similar spatial information.\n",
        "Longitude has a strong negative correlation with X, Y, and Latitude.\n",
        "Temporal features like HOUR, MINUTE, MONTH, and DAY show very weak or negligible correlations with spatial features, which means they likely provide independent signals.\n",
        "No single pair exhibits high multicollinearity beyond spatial features—this is useful in modeling to avoid redundancy."
      ],
      "metadata": {
        "id": "bfSqtnDqZNRR"
      }
    },
    {
      "cell_type": "markdown",
      "source": [
        "#### Chart - 15 - Pair Plot"
      ],
      "metadata": {
        "id": "q29F0dvdveiT"
      }
    },
    {
      "cell_type": "code",
      "source": [
        "# Pair Plot visualization code"
      ],
      "metadata": {
        "id": "o58-TEIhveiU"
      },
      "execution_count": null,
      "outputs": []
    },
    {
      "cell_type": "code",
      "source": [
        "import seaborn as sns\n",
        "import matplotlib.pyplot as plt\n",
        "import pandas as pd\n",
        "\n",
        "# Load the dataset (ensure the correct path and sheet name)\n",
        "df = pd.read_excel(\"/content/Train.xlsx\")\n",
        "\n",
        "# Select relevant numerical columns\n",
        "numerical_cols = ['X', 'Y', 'Latitude', 'Longitude', 'HOUR', 'MINUTE', 'YEAR', 'MONTH', 'DAY']\n",
        "\n",
        "# Sample the data if it's too large (optional for performance)\n",
        "df_sampled = df[numerical_cols].sample(n=1000, random_state=42)\n",
        "\n",
        "# Plot the pair plot\n",
        "sns.pairplot(df_sampled)\n",
        "plt.suptitle(\"Pair Plot of Numerical Features\", y=1.02)\n",
        "plt.show()\n"
      ],
      "metadata": {
        "id": "U0GuBdTBe222"
      },
      "execution_count": null,
      "outputs": []
    },
    {
      "cell_type": "markdown",
      "source": [
        "##### 1. Why did you pick the specific chart?"
      ],
      "metadata": {
        "id": "EXh0U9oCveiU"
      }
    },
    {
      "cell_type": "markdown",
      "source": [
        "Answer Here.I selected the Pair Plot to perform a comprehensive multivariate analysis of the numerical features in the dataset. This chart is powerful for visualizing pairwise relationships between multiple variables simultaneously. It helps to uncover correlations, distributions, outliers, and patterns that are not immediately visible in single-variable plots."
      ],
      "metadata": {
        "id": "eMmPjTByveiU"
      }
    },
    {
      "cell_type": "markdown",
      "source": [
        "##### 2. What is/are the insight(s) found from the chart?"
      ],
      "metadata": {
        "id": "22aHeOlLveiV"
      }
    },
    {
      "cell_type": "markdown",
      "source": [
        "Answer Here-Some features like X and Y, as well as Latitude and Longitude, are highly clustered and may have redundant or overlapping spatial values.\n",
        "Most numeric fields such as HOUR, MINUTE, and DAY appear to be evenly distributed without strong linear relationships between them.\n",
        "The YEAR and MONTH fields show temporal distributions but no clear relationship with other numerical features.\n",
        "There are possible outliers in X, Y, and spatial coordinates, which could indicate incorrect geolocation or rare incidents."
      ],
      "metadata": {
        "id": "uPQ8RGwHveiV"
      }
    },
    {
      "cell_type": "markdown",
      "source": [
        "## **5. Solution to Business Objective**"
      ],
      "metadata": {
        "id": "JcMwzZxoAimU"
      }
    },
    {
      "cell_type": "markdown",
      "source": [
        "#### What do you suggest the client to achieve Business Objective ?\n",
        "Explain Briefly."
      ],
      "metadata": {
        "id": "8G2x9gOozGDZ"
      }
    },
    {
      "cell_type": "markdown",
      "source": [
        "Answer Here-The client should leverage time-based, type-based, and location-based insights from the crime data to:\n",
        "Allocate police resources efficiently during high-crime hours (especially evenings) and peak months.\n",
        "Prioritize high-crime neighbourhoods like the Central Business District for increased surveillance and patrolling.\n",
        "Tailor crime prevention strategies for specific crime types like vehicle theft, which show clear hourly and location trends.\n",
        "Use data-driven forecasting models to predict future crime trends for proactive planning.\n",
        "By doing this, the client can make informed decisions, reduce crime rates, and ensure public safety through better strategic planning."
      ],
      "metadata": {
        "id": "pASKb0qOza21"
      }
    },
    {
      "cell_type": "markdown",
      "source": [
        "# **Conclusion**"
      ],
      "metadata": {
        "id": "gCX9965dhzqZ"
      }
    },
    {
      "cell_type": "markdown",
      "source": [
        "Write the conclusion here.\n",
        "Through a detailed analysis of the historical FBI crime dataset, we uncovered meaningful patterns in crime distribution across time, location, and type. Visualizations such as hourly trends, seasonal heatmaps, and neighbourhood-wise comparisons revealed that certain crime types like Theft from Vehicle are heavily concentrated in specific areas and peak during late hours.\n",
        "These insights can empower stakeholders—such as law enforcement, city planners, and policymakers—to implement data-driven strategies for:\n",
        "Targeted resource deployment\n",
        "Enhanced crime prevention policies\n",
        "Smarter urban safety initiatives\n",
        "In conclusion, this analysis provides a solid foundation for proactive crime management and supports the broader goal of creating safer communities through intelligent, evidence-based decision-making."
      ],
      "metadata": {
        "id": "Fjb1IsQkh3yE"
      }
    },
    {
      "cell_type": "markdown",
      "source": [
        "### ***Hurrah! You have successfully completed your EDA Capstone Project !!!***"
      ],
      "metadata": {
        "id": "gIfDvo9L0UH2"
      }
    },
    {
      "cell_type": "code",
      "source": [],
      "metadata": {
        "id": "dYX880etpL0x"
      },
      "execution_count": null,
      "outputs": []
    },
    {
      "cell_type": "code",
      "source": [],
      "metadata": {
        "id": "-6Vl263upPVI"
      },
      "execution_count": null,
      "outputs": []
    }
  ]
}